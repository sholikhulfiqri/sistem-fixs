{
 "cells": [
  {
   "cell_type": "markdown",
   "metadata": {},
   "source": [
    "1. Tentukan Library yang digunakan"
   ]
  },
  {
   "cell_type": "code",
   "execution_count": 1,
   "metadata": {},
   "outputs": [],
   "source": [
    "import numpy as np\n",
    "import pandas as pd\n",
    "from sklearn.model_selection import train_test_split\n",
    "from sklearn.naive_bayes import GaussianNB\n",
    "from sklearn.metrics import accuracy_score, confusion_matrix, ConfusionMatrixDisplay, precision_score, recall_score, f1_score\n",
    "import matplotlib.pyplot as plt\n",
    "import seaborn as sns\n",
    "import pickle"
   ]
  },
  {
   "cell_type": "markdown",
   "metadata": {},
   "source": [
    "2. Load Dataset"
   ]
  },
  {
   "cell_type": "code",
   "execution_count": 2,
   "metadata": {},
   "outputs": [],
   "source": [
    "data = pd.read_csv('diabetes.csv')"
   ]
  },
  {
   "cell_type": "code",
   "execution_count": 3,
   "metadata": {},
   "outputs": [
    {
     "data": {
      "text/html": [
       "<div>\n",
       "<style scoped>\n",
       "    .dataframe tbody tr th:only-of-type {\n",
       "        vertical-align: middle;\n",
       "    }\n",
       "\n",
       "    .dataframe tbody tr th {\n",
       "        vertical-align: top;\n",
       "    }\n",
       "\n",
       "    .dataframe thead th {\n",
       "        text-align: right;\n",
       "    }\n",
       "</style>\n",
       "<table border=\"1\" class=\"dataframe\">\n",
       "  <thead>\n",
       "    <tr style=\"text-align: right;\">\n",
       "      <th></th>\n",
       "      <th>Age</th>\n",
       "      <th>Gender</th>\n",
       "      <th>BMI</th>\n",
       "      <th>SBP</th>\n",
       "      <th>DBP</th>\n",
       "      <th>FPG</th>\n",
       "      <th>Chol</th>\n",
       "      <th>Tri</th>\n",
       "      <th>HDL</th>\n",
       "      <th>LDL</th>\n",
       "      <th>ALT</th>\n",
       "      <th>BUN</th>\n",
       "      <th>CCR</th>\n",
       "      <th>FFPG</th>\n",
       "      <th>smoking</th>\n",
       "      <th>drinking</th>\n",
       "      <th>family_histroy</th>\n",
       "      <th>Diabetes</th>\n",
       "    </tr>\n",
       "  </thead>\n",
       "  <tbody>\n",
       "    <tr>\n",
       "      <th>0</th>\n",
       "      <td>26</td>\n",
       "      <td>1</td>\n",
       "      <td>20.1</td>\n",
       "      <td>119</td>\n",
       "      <td>81</td>\n",
       "      <td>5.80</td>\n",
       "      <td>4.36</td>\n",
       "      <td>0.86</td>\n",
       "      <td>0.90</td>\n",
       "      <td>2.43</td>\n",
       "      <td>12.0</td>\n",
       "      <td>5.40</td>\n",
       "      <td>63.8</td>\n",
       "      <td>5.40</td>\n",
       "      <td>3.0</td>\n",
       "      <td>3.0</td>\n",
       "      <td>0</td>\n",
       "      <td>0</td>\n",
       "    </tr>\n",
       "    <tr>\n",
       "      <th>1</th>\n",
       "      <td>40</td>\n",
       "      <td>1</td>\n",
       "      <td>17.7</td>\n",
       "      <td>97</td>\n",
       "      <td>54</td>\n",
       "      <td>4.60</td>\n",
       "      <td>3.70</td>\n",
       "      <td>1.02</td>\n",
       "      <td>1.50</td>\n",
       "      <td>2.04</td>\n",
       "      <td>9.2</td>\n",
       "      <td>3.70</td>\n",
       "      <td>70.3</td>\n",
       "      <td>4.10</td>\n",
       "      <td>1.0</td>\n",
       "      <td>1.0</td>\n",
       "      <td>0</td>\n",
       "      <td>0</td>\n",
       "    </tr>\n",
       "    <tr>\n",
       "      <th>2</th>\n",
       "      <td>40</td>\n",
       "      <td>2</td>\n",
       "      <td>19.7</td>\n",
       "      <td>85</td>\n",
       "      <td>53</td>\n",
       "      <td>5.30</td>\n",
       "      <td>5.87</td>\n",
       "      <td>1.29</td>\n",
       "      <td>1.75</td>\n",
       "      <td>3.37</td>\n",
       "      <td>10.1</td>\n",
       "      <td>4.10</td>\n",
       "      <td>61.1</td>\n",
       "      <td>4.85</td>\n",
       "      <td>3.0</td>\n",
       "      <td>3.0</td>\n",
       "      <td>0</td>\n",
       "      <td>0</td>\n",
       "    </tr>\n",
       "    <tr>\n",
       "      <th>3</th>\n",
       "      <td>43</td>\n",
       "      <td>1</td>\n",
       "      <td>23.1</td>\n",
       "      <td>111</td>\n",
       "      <td>71</td>\n",
       "      <td>4.50</td>\n",
       "      <td>4.05</td>\n",
       "      <td>0.74</td>\n",
       "      <td>1.27</td>\n",
       "      <td>2.60</td>\n",
       "      <td>36.5</td>\n",
       "      <td>4.38</td>\n",
       "      <td>73.4</td>\n",
       "      <td>5.30</td>\n",
       "      <td>2.0</td>\n",
       "      <td>3.0</td>\n",
       "      <td>0</td>\n",
       "      <td>0</td>\n",
       "    </tr>\n",
       "    <tr>\n",
       "      <th>4</th>\n",
       "      <td>36</td>\n",
       "      <td>1</td>\n",
       "      <td>26.5</td>\n",
       "      <td>130</td>\n",
       "      <td>82</td>\n",
       "      <td>5.54</td>\n",
       "      <td>6.69</td>\n",
       "      <td>3.49</td>\n",
       "      <td>0.91</td>\n",
       "      <td>3.64</td>\n",
       "      <td>69.3</td>\n",
       "      <td>3.86</td>\n",
       "      <td>67.5</td>\n",
       "      <td>5.53</td>\n",
       "      <td>3.0</td>\n",
       "      <td>3.0</td>\n",
       "      <td>0</td>\n",
       "      <td>0</td>\n",
       "    </tr>\n",
       "  </tbody>\n",
       "</table>\n",
       "</div>"
      ],
      "text/plain": [
       "   Age  Gender   BMI  SBP  DBP   FPG  Chol   Tri   HDL   LDL   ALT   BUN  \\\n",
       "0   26       1  20.1  119   81  5.80  4.36  0.86  0.90  2.43  12.0  5.40   \n",
       "1   40       1  17.7   97   54  4.60  3.70  1.02  1.50  2.04   9.2  3.70   \n",
       "2   40       2  19.7   85   53  5.30  5.87  1.29  1.75  3.37  10.1  4.10   \n",
       "3   43       1  23.1  111   71  4.50  4.05  0.74  1.27  2.60  36.5  4.38   \n",
       "4   36       1  26.5  130   82  5.54  6.69  3.49  0.91  3.64  69.3  3.86   \n",
       "\n",
       "    CCR  FFPG  smoking  drinking  family_histroy  Diabetes  \n",
       "0  63.8  5.40      3.0       3.0               0         0  \n",
       "1  70.3  4.10      1.0       1.0               0         0  \n",
       "2  61.1  4.85      3.0       3.0               0         0  \n",
       "3  73.4  5.30      2.0       3.0               0         0  \n",
       "4  67.5  5.53      3.0       3.0               0         0  "
      ]
     },
     "execution_count": 3,
     "metadata": {},
     "output_type": "execute_result"
    }
   ],
   "source": [
    "data.head()"
   ]
  },
  {
   "cell_type": "code",
   "execution_count": 4,
   "metadata": {},
   "outputs": [
    {
     "data": {
      "text/plain": [
       "(4303, 18)"
      ]
     },
     "execution_count": 4,
     "metadata": {},
     "output_type": "execute_result"
    }
   ],
   "source": [
    "data.shape"
   ]
  },
  {
   "cell_type": "code",
   "execution_count": 5,
   "metadata": {},
   "outputs": [
    {
     "name": "stdout",
     "output_type": "stream",
     "text": [
      "<class 'pandas.core.frame.DataFrame'>\n",
      "RangeIndex: 4303 entries, 0 to 4302\n",
      "Data columns (total 18 columns):\n",
      " #   Column          Non-Null Count  Dtype  \n",
      "---  ------          --------------  -----  \n",
      " 0   Age             4303 non-null   int64  \n",
      " 1   Gender          4303 non-null   int64  \n",
      " 2   BMI             4303 non-null   float64\n",
      " 3   SBP             4303 non-null   int64  \n",
      " 4   DBP             4303 non-null   int64  \n",
      " 5   FPG             4303 non-null   float64\n",
      " 6   Chol            4303 non-null   float64\n",
      " 7   Tri             4303 non-null   float64\n",
      " 8   HDL             4303 non-null   float64\n",
      " 9   LDL             4303 non-null   float64\n",
      " 10  ALT             4303 non-null   float64\n",
      " 11  BUN             4303 non-null   float64\n",
      " 12  CCR             4303 non-null   float64\n",
      " 13  FFPG            4303 non-null   float64\n",
      " 14  smoking         4303 non-null   float64\n",
      " 15  drinking        4303 non-null   float64\n",
      " 16  family_histroy  4303 non-null   int64  \n",
      " 17  Diabetes        4303 non-null   int64  \n",
      "dtypes: float64(12), int64(6)\n",
      "memory usage: 605.2 KB\n"
     ]
    }
   ],
   "source": [
    "data.info()"
   ]
  },
  {
   "cell_type": "code",
   "execution_count": 6,
   "metadata": {},
   "outputs": [],
   "source": [
    "#menghapus kolom\n",
    "kolom_yang_dihapus = ['Tri', 'HDL', 'LDL', 'ALT', 'BUN', 'CCR', 'smoking', 'drinking', 'family_histroy']\n",
    "data.drop(kolom_yang_dihapus, axis=1, inplace=True)\n",
    "#axis=1 berguna untuk menghapus kolom\n",
    "#inplace=True perubahan akan diterapkan langsung pada objek DataFrame yang ada dan tidak akan menghasilkan DataFrame baru."
   ]
  },
  {
   "cell_type": "code",
   "execution_count": 7,
   "metadata": {},
   "outputs": [
    {
     "data": {
      "text/html": [
       "<div>\n",
       "<style scoped>\n",
       "    .dataframe tbody tr th:only-of-type {\n",
       "        vertical-align: middle;\n",
       "    }\n",
       "\n",
       "    .dataframe tbody tr th {\n",
       "        vertical-align: top;\n",
       "    }\n",
       "\n",
       "    .dataframe thead th {\n",
       "        text-align: right;\n",
       "    }\n",
       "</style>\n",
       "<table border=\"1\" class=\"dataframe\">\n",
       "  <thead>\n",
       "    <tr style=\"text-align: right;\">\n",
       "      <th></th>\n",
       "      <th>Age</th>\n",
       "      <th>Gender</th>\n",
       "      <th>BMI</th>\n",
       "      <th>SBP</th>\n",
       "      <th>DBP</th>\n",
       "      <th>FPG</th>\n",
       "      <th>Chol</th>\n",
       "      <th>FFPG</th>\n",
       "      <th>Diabetes</th>\n",
       "    </tr>\n",
       "  </thead>\n",
       "  <tbody>\n",
       "    <tr>\n",
       "      <th>4298</th>\n",
       "      <td>54</td>\n",
       "      <td>1</td>\n",
       "      <td>23.4</td>\n",
       "      <td>126</td>\n",
       "      <td>75</td>\n",
       "      <td>6.82</td>\n",
       "      <td>5.00</td>\n",
       "      <td>6.70</td>\n",
       "      <td>1</td>\n",
       "    </tr>\n",
       "    <tr>\n",
       "      <th>4299</th>\n",
       "      <td>50</td>\n",
       "      <td>2</td>\n",
       "      <td>22.3</td>\n",
       "      <td>115</td>\n",
       "      <td>84</td>\n",
       "      <td>5.32</td>\n",
       "      <td>4.37</td>\n",
       "      <td>6.55</td>\n",
       "      <td>1</td>\n",
       "    </tr>\n",
       "    <tr>\n",
       "      <th>4300</th>\n",
       "      <td>67</td>\n",
       "      <td>1</td>\n",
       "      <td>24.6</td>\n",
       "      <td>138</td>\n",
       "      <td>81</td>\n",
       "      <td>4.85</td>\n",
       "      <td>3.89</td>\n",
       "      <td>6.80</td>\n",
       "      <td>1</td>\n",
       "    </tr>\n",
       "    <tr>\n",
       "      <th>4301</th>\n",
       "      <td>60</td>\n",
       "      <td>2</td>\n",
       "      <td>29.0</td>\n",
       "      <td>101</td>\n",
       "      <td>60</td>\n",
       "      <td>6.70</td>\n",
       "      <td>5.91</td>\n",
       "      <td>7.00</td>\n",
       "      <td>1</td>\n",
       "    </tr>\n",
       "    <tr>\n",
       "      <th>4302</th>\n",
       "      <td>37</td>\n",
       "      <td>1</td>\n",
       "      <td>34.3</td>\n",
       "      <td>120</td>\n",
       "      <td>71</td>\n",
       "      <td>4.97</td>\n",
       "      <td>5.42</td>\n",
       "      <td>8.20</td>\n",
       "      <td>1</td>\n",
       "    </tr>\n",
       "  </tbody>\n",
       "</table>\n",
       "</div>"
      ],
      "text/plain": [
       "      Age  Gender   BMI  SBP  DBP   FPG  Chol  FFPG  Diabetes\n",
       "4298   54       1  23.4  126   75  6.82  5.00  6.70         1\n",
       "4299   50       2  22.3  115   84  5.32  4.37  6.55         1\n",
       "4300   67       1  24.6  138   81  4.85  3.89  6.80         1\n",
       "4301   60       2  29.0  101   60  6.70  5.91  7.00         1\n",
       "4302   37       1  34.3  120   71  4.97  5.42  8.20         1"
      ]
     },
     "execution_count": 7,
     "metadata": {},
     "output_type": "execute_result"
    }
   ],
   "source": [
    "data.tail()"
   ]
  },
  {
   "cell_type": "code",
   "execution_count": 8,
   "metadata": {},
   "outputs": [
    {
     "name": "stdout",
     "output_type": "stream",
     "text": [
      "<class 'pandas.core.frame.DataFrame'>\n",
      "RangeIndex: 4303 entries, 0 to 4302\n",
      "Data columns (total 9 columns):\n",
      " #   Column    Non-Null Count  Dtype  \n",
      "---  ------    --------------  -----  \n",
      " 0   Age       4303 non-null   int64  \n",
      " 1   Gender    4303 non-null   int64  \n",
      " 2   BMI       4303 non-null   float64\n",
      " 3   SBP       4303 non-null   int64  \n",
      " 4   DBP       4303 non-null   int64  \n",
      " 5   FPG       4303 non-null   float64\n",
      " 6   Chol      4303 non-null   float64\n",
      " 7   FFPG      4303 non-null   float64\n",
      " 8   Diabetes  4303 non-null   int64  \n",
      "dtypes: float64(4), int64(5)\n",
      "memory usage: 302.7 KB\n"
     ]
    }
   ],
   "source": [
    "data.info()"
   ]
  },
  {
   "cell_type": "code",
   "execution_count": 9,
   "metadata": {},
   "outputs": [
    {
     "data": {
      "text/plain": [
       "(4303, 9)"
      ]
     },
     "execution_count": 9,
     "metadata": {},
     "output_type": "execute_result"
    }
   ],
   "source": [
    "data.shape"
   ]
  },
  {
   "cell_type": "code",
   "execution_count": 10,
   "metadata": {},
   "outputs": [
    {
     "data": {
      "text/plain": [
       "Diabetes\n",
       "0    3000\n",
       "1    1303\n",
       "Name: count, dtype: int64"
      ]
     },
     "execution_count": 10,
     "metadata": {},
     "output_type": "execute_result"
    }
   ],
   "source": [
    "data['Diabetes'].value_counts()"
   ]
  },
  {
   "cell_type": "markdown",
   "metadata": {},
   "source": [
    "3. Memisahkan Data atribut dan Label"
   ]
  },
  {
   "cell_type": "code",
   "execution_count": 11,
   "metadata": {},
   "outputs": [],
   "source": [
    "X = data.drop(columns='Diabetes', axis=1)\n",
    "Y = data['Diabetes']"
   ]
  },
  {
   "cell_type": "code",
   "execution_count": 12,
   "metadata": {},
   "outputs": [
    {
     "name": "stdout",
     "output_type": "stream",
     "text": [
      "      Age  Gender   BMI  SBP  DBP   FPG  Chol  FFPG\n",
      "0      26       1  20.1  119   81  5.80  4.36  5.40\n",
      "1      40       1  17.7   97   54  4.60  3.70  4.10\n",
      "2      40       2  19.7   85   53  5.30  5.87  4.85\n",
      "3      43       1  23.1  111   71  4.50  4.05  5.30\n",
      "4      36       1  26.5  130   82  5.54  6.69  5.53\n",
      "...   ...     ...   ...  ...  ...   ...   ...   ...\n",
      "4298   54       1  23.4  126   75  6.82  5.00  6.70\n",
      "4299   50       2  22.3  115   84  5.32  4.37  6.55\n",
      "4300   67       1  24.6  138   81  4.85  3.89  6.80\n",
      "4301   60       2  29.0  101   60  6.70  5.91  7.00\n",
      "4302   37       1  34.3  120   71  4.97  5.42  8.20\n",
      "\n",
      "[4303 rows x 8 columns]\n"
     ]
    }
   ],
   "source": [
    "print(X)"
   ]
  },
  {
   "cell_type": "code",
   "execution_count": 13,
   "metadata": {},
   "outputs": [
    {
     "name": "stdout",
     "output_type": "stream",
     "text": [
      "0       0\n",
      "1       0\n",
      "2       0\n",
      "3       0\n",
      "4       0\n",
      "       ..\n",
      "4298    1\n",
      "4299    1\n",
      "4300    1\n",
      "4301    1\n",
      "4302    1\n",
      "Name: Diabetes, Length: 4303, dtype: int64\n"
     ]
    }
   ],
   "source": [
    "print(Y)"
   ]
  },
  {
   "cell_type": "markdown",
   "metadata": {},
   "source": [
    "4. Memisahkan Data Training dan Data Testing"
   ]
  },
  {
   "cell_type": "code",
   "execution_count": 14,
   "metadata": {},
   "outputs": [],
   "source": [
    "X_train, X_test, Y_train, Y_test = train_test_split(X, Y, test_size=20, stratify=Y, random_state=20)\n",
    "#stratify=Y Parameter ini memastikan bahwa pembagian data antara data pelatihan dan pengujian akan mempertahankan proporsi kelas yang \n",
    "# sama seperti dalam variabel target Y."
   ]
  },
  {
   "cell_type": "code",
   "execution_count": 15,
   "metadata": {},
   "outputs": [
    {
     "name": "stdout",
     "output_type": "stream",
     "text": [
      "(4303, 8) (4283, 8) (20, 8)\n"
     ]
    }
   ],
   "source": [
    "print(X.shape, X_train.shape, X_test.shape)"
   ]
  },
  {
   "cell_type": "markdown",
   "metadata": {},
   "source": [
    "5. Membuat Data Latih Menggunakan Algoritma Naive Bayes"
   ]
  },
  {
   "cell_type": "code",
   "execution_count": 16,
   "metadata": {},
   "outputs": [],
   "source": [
    "classifier = GaussianNB()\n",
    "#membuat sebuah objek klasifikasi Naive Bayes Gaussian (Gaussian NB) yang akan digunakan untuk melakukan klasifikasi atau prediksi "
   ]
  },
  {
   "cell_type": "code",
   "execution_count": 17,
   "metadata": {},
   "outputs": [
    {
     "data": {
      "text/html": [
       "<style>#sk-container-id-1 {color: black;}#sk-container-id-1 pre{padding: 0;}#sk-container-id-1 div.sk-toggleable {background-color: white;}#sk-container-id-1 label.sk-toggleable__label {cursor: pointer;display: block;width: 100%;margin-bottom: 0;padding: 0.3em;box-sizing: border-box;text-align: center;}#sk-container-id-1 label.sk-toggleable__label-arrow:before {content: \"▸\";float: left;margin-right: 0.25em;color: #696969;}#sk-container-id-1 label.sk-toggleable__label-arrow:hover:before {color: black;}#sk-container-id-1 div.sk-estimator:hover label.sk-toggleable__label-arrow:before {color: black;}#sk-container-id-1 div.sk-toggleable__content {max-height: 0;max-width: 0;overflow: hidden;text-align: left;background-color: #f0f8ff;}#sk-container-id-1 div.sk-toggleable__content pre {margin: 0.2em;color: black;border-radius: 0.25em;background-color: #f0f8ff;}#sk-container-id-1 input.sk-toggleable__control:checked~div.sk-toggleable__content {max-height: 200px;max-width: 100%;overflow: auto;}#sk-container-id-1 input.sk-toggleable__control:checked~label.sk-toggleable__label-arrow:before {content: \"▾\";}#sk-container-id-1 div.sk-estimator input.sk-toggleable__control:checked~label.sk-toggleable__label {background-color: #d4ebff;}#sk-container-id-1 div.sk-label input.sk-toggleable__control:checked~label.sk-toggleable__label {background-color: #d4ebff;}#sk-container-id-1 input.sk-hidden--visually {border: 0;clip: rect(1px 1px 1px 1px);clip: rect(1px, 1px, 1px, 1px);height: 1px;margin: -1px;overflow: hidden;padding: 0;position: absolute;width: 1px;}#sk-container-id-1 div.sk-estimator {font-family: monospace;background-color: #f0f8ff;border: 1px dotted black;border-radius: 0.25em;box-sizing: border-box;margin-bottom: 0.5em;}#sk-container-id-1 div.sk-estimator:hover {background-color: #d4ebff;}#sk-container-id-1 div.sk-parallel-item::after {content: \"\";width: 100%;border-bottom: 1px solid gray;flex-grow: 1;}#sk-container-id-1 div.sk-label:hover label.sk-toggleable__label {background-color: #d4ebff;}#sk-container-id-1 div.sk-serial::before {content: \"\";position: absolute;border-left: 1px solid gray;box-sizing: border-box;top: 0;bottom: 0;left: 50%;z-index: 0;}#sk-container-id-1 div.sk-serial {display: flex;flex-direction: column;align-items: center;background-color: white;padding-right: 0.2em;padding-left: 0.2em;position: relative;}#sk-container-id-1 div.sk-item {position: relative;z-index: 1;}#sk-container-id-1 div.sk-parallel {display: flex;align-items: stretch;justify-content: center;background-color: white;position: relative;}#sk-container-id-1 div.sk-item::before, #sk-container-id-1 div.sk-parallel-item::before {content: \"\";position: absolute;border-left: 1px solid gray;box-sizing: border-box;top: 0;bottom: 0;left: 50%;z-index: -1;}#sk-container-id-1 div.sk-parallel-item {display: flex;flex-direction: column;z-index: 1;position: relative;background-color: white;}#sk-container-id-1 div.sk-parallel-item:first-child::after {align-self: flex-end;width: 50%;}#sk-container-id-1 div.sk-parallel-item:last-child::after {align-self: flex-start;width: 50%;}#sk-container-id-1 div.sk-parallel-item:only-child::after {width: 0;}#sk-container-id-1 div.sk-dashed-wrapped {border: 1px dashed gray;margin: 0 0.4em 0.5em 0.4em;box-sizing: border-box;padding-bottom: 0.4em;background-color: white;}#sk-container-id-1 div.sk-label label {font-family: monospace;font-weight: bold;display: inline-block;line-height: 1.2em;}#sk-container-id-1 div.sk-label-container {text-align: center;}#sk-container-id-1 div.sk-container {/* jupyter's `normalize.less` sets `[hidden] { display: none; }` but bootstrap.min.css set `[hidden] { display: none !important; }` so we also need the `!important` here to be able to override the default hidden behavior on the sphinx rendered scikit-learn.org. See: https://github.com/scikit-learn/scikit-learn/issues/21755 */display: inline-block !important;position: relative;}#sk-container-id-1 div.sk-text-repr-fallback {display: none;}</style><div id=\"sk-container-id-1\" class=\"sk-top-container\"><div class=\"sk-text-repr-fallback\"><pre>GaussianNB()</pre><b>In a Jupyter environment, please rerun this cell to show the HTML representation or trust the notebook. <br />On GitHub, the HTML representation is unable to render, please try loading this page with nbviewer.org.</b></div><div class=\"sk-container\" hidden><div class=\"sk-item\"><div class=\"sk-estimator sk-toggleable\"><input class=\"sk-toggleable__control sk-hidden--visually\" id=\"sk-estimator-id-1\" type=\"checkbox\" checked><label for=\"sk-estimator-id-1\" class=\"sk-toggleable__label sk-toggleable__label-arrow\">GaussianNB</label><div class=\"sk-toggleable__content\"><pre>GaussianNB()</pre></div></div></div></div></div>"
      ],
      "text/plain": [
       "GaussianNB()"
      ]
     },
     "execution_count": 17,
     "metadata": {},
     "output_type": "execute_result"
    }
   ],
   "source": [
    "classifier.fit(X_train, Y_train)\n",
    "#langkah untuk melatih model dengan menggunakan data pelatihan"
   ]
  },
  {
   "cell_type": "markdown",
   "metadata": {},
   "source": [
    "6. Membuat Model Evaluasi Untuk Mengukur Tingkat Akurasi"
   ]
  },
  {
   "cell_type": "code",
   "execution_count": 18,
   "metadata": {},
   "outputs": [],
   "source": [
    "Y_pred = classifier.predict(X_test)\n",
    "#melakukan prediksi pada data pengujian"
   ]
  },
  {
   "cell_type": "code",
   "execution_count": 19,
   "metadata": {},
   "outputs": [],
   "source": [
    "cm = confusion_matrix(Y_test, Y_pred)\n",
    "\n",
    "#untuk menghitung confusion matrix dengan memberikan gambaran tentang sejauh mana model berhasil atau gagal dalam \n",
    "# memprediksi kelas data pengujian"
   ]
  },
  {
   "cell_type": "code",
   "execution_count": 20,
   "metadata": {},
   "outputs": [],
   "source": [
    "X_test_prediction = classifier.predict(X_test)\n",
    "#langkah untuk melakukan prediksi pada data pengujian (X_test) menggunakan model classifier yang sudah di latih. \n",
    "# Hasil prediksi akan disimpan dalam variabel X_test_prediction.\n",
    "\n",
    "test_data_accuracy = accuracy_score(Y_test, X_test_prediction)\n",
    "#membandingkan variabel target sebenarnya (Y_test) dengan prediksi yang telah dibuat oleh model (X_test_prediction)."
   ]
  },
  {
   "cell_type": "code",
   "execution_count": 21,
   "metadata": {},
   "outputs": [
    {
     "name": "stdout",
     "output_type": "stream",
     "text": [
      "Akurasi data testing adalah =  0.9\n"
     ]
    }
   ],
   "source": [
    "print('Akurasi data testing adalah = ', test_data_accuracy)"
   ]
  },
  {
   "cell_type": "code",
   "execution_count": 22,
   "metadata": {},
   "outputs": [
    {
     "data": {
      "text/plain": [
       "<sklearn.metrics._plot.confusion_matrix.ConfusionMatrixDisplay at 0x1f13ad32930>"
      ]
     },
     "execution_count": 22,
     "metadata": {},
     "output_type": "execute_result"
    },
    {
     "data": {
      "image/png": "[encoded data removed]",
      "text/plain": [
       "<Figure size 640x480 with 2 Axes>"
      ]
     },
     "metadata": {},
     "output_type": "display_data"
    }
   ],
   "source": [
    "cmd = ConfusionMatrixDisplay(cm, display_labels=['Negative', 'Positive'])\n",
    "cmd.plot()"
   ]
  },
  {
   "cell_type": "code",
   "execution_count": 23,
   "metadata": {},
   "outputs": [
    {
     "data": {
      "image/png": "[encoded data removed]",
      "text/plain": [
       "<Figure size 640x480 with 1 Axes>"
      ]
     },
     "metadata": {},
     "output_type": "display_data"
    }
   ],
   "source": [
    "sns.countplot(data=data, x='Gender', hue='Diabetes')\n",
    "plt.xlabel('Gender')\n",
    "plt.ylabel('Jumlah Kasus')\n",
    "plt.title('Distribusi Diabetes Berdasarkan Gender')\n",
    "plt.show()"
   ]
  },
  {
   "cell_type": "code",
   "execution_count": 24,
   "metadata": {},
   "outputs": [
    {
     "data": {
      "text/plain": [
       "Gender\n",
       "1    2790\n",
       "2    1513\n",
       "Name: count, dtype: int64"
      ]
     },
     "execution_count": 24,
     "metadata": {},
     "output_type": "execute_result"
    }
   ],
   "source": [
    "data['Gender'].value_counts()"
   ]
  },
  {
   "cell_type": "code",
   "execution_count": 25,
   "metadata": {},
   "outputs": [
    {
     "data": {
      "text/plain": [
       "Diabetes\n",
       "0    3000\n",
       "1    1303\n",
       "Name: count, dtype: int64"
      ]
     },
     "execution_count": 25,
     "metadata": {},
     "output_type": "execute_result"
    }
   ],
   "source": [
    "data['Diabetes'].value_counts()"
   ]
  },
  {
   "cell_type": "code",
   "execution_count": 26,
   "metadata": {},
   "outputs": [
    {
     "data": {
      "text/html": [
       "<div>\n",
       "<style scoped>\n",
       "    .dataframe tbody tr th:only-of-type {\n",
       "        vertical-align: middle;\n",
       "    }\n",
       "\n",
       "    .dataframe tbody tr th {\n",
       "        vertical-align: top;\n",
       "    }\n",
       "\n",
       "    .dataframe thead th {\n",
       "        text-align: right;\n",
       "    }\n",
       "</style>\n",
       "<table border=\"1\" class=\"dataframe\">\n",
       "  <thead>\n",
       "    <tr style=\"text-align: right;\">\n",
       "      <th></th>\n",
       "      <th>Age</th>\n",
       "      <th>Gender</th>\n",
       "      <th>BMI</th>\n",
       "      <th>SBP</th>\n",
       "      <th>DBP</th>\n",
       "      <th>FPG</th>\n",
       "      <th>Chol</th>\n",
       "      <th>FFPG</th>\n",
       "    </tr>\n",
       "  </thead>\n",
       "  <tbody>\n",
       "    <tr>\n",
       "      <th>2811</th>\n",
       "      <td>36</td>\n",
       "      <td>1</td>\n",
       "      <td>23.40</td>\n",
       "      <td>113</td>\n",
       "      <td>72</td>\n",
       "      <td>5.13</td>\n",
       "      <td>4.14</td>\n",
       "      <td>4.90</td>\n",
       "    </tr>\n",
       "    <tr>\n",
       "      <th>1818</th>\n",
       "      <td>36</td>\n",
       "      <td>2</td>\n",
       "      <td>22.30</td>\n",
       "      <td>113</td>\n",
       "      <td>72</td>\n",
       "      <td>4.23</td>\n",
       "      <td>4.72</td>\n",
       "      <td>5.23</td>\n",
       "    </tr>\n",
       "    <tr>\n",
       "      <th>1808</th>\n",
       "      <td>27</td>\n",
       "      <td>1</td>\n",
       "      <td>19.30</td>\n",
       "      <td>112</td>\n",
       "      <td>68</td>\n",
       "      <td>4.03</td>\n",
       "      <td>3.21</td>\n",
       "      <td>4.70</td>\n",
       "    </tr>\n",
       "    <tr>\n",
       "      <th>271</th>\n",
       "      <td>53</td>\n",
       "      <td>1</td>\n",
       "      <td>24.20</td>\n",
       "      <td>133</td>\n",
       "      <td>85</td>\n",
       "      <td>3.76</td>\n",
       "      <td>5.02</td>\n",
       "      <td>4.90</td>\n",
       "    </tr>\n",
       "    <tr>\n",
       "      <th>474</th>\n",
       "      <td>33</td>\n",
       "      <td>1</td>\n",
       "      <td>22.40</td>\n",
       "      <td>110</td>\n",
       "      <td>62</td>\n",
       "      <td>5.41</td>\n",
       "      <td>3.08</td>\n",
       "      <td>5.00</td>\n",
       "    </tr>\n",
       "    <tr>\n",
       "      <th>2972</th>\n",
       "      <td>53</td>\n",
       "      <td>2</td>\n",
       "      <td>24.24</td>\n",
       "      <td>155</td>\n",
       "      <td>77</td>\n",
       "      <td>4.57</td>\n",
       "      <td>5.01</td>\n",
       "      <td>5.58</td>\n",
       "    </tr>\n",
       "    <tr>\n",
       "      <th>1607</th>\n",
       "      <td>36</td>\n",
       "      <td>1</td>\n",
       "      <td>24.50</td>\n",
       "      <td>116</td>\n",
       "      <td>68</td>\n",
       "      <td>4.61</td>\n",
       "      <td>3.59</td>\n",
       "      <td>4.40</td>\n",
       "    </tr>\n",
       "    <tr>\n",
       "      <th>3390</th>\n",
       "      <td>71</td>\n",
       "      <td>1</td>\n",
       "      <td>25.20</td>\n",
       "      <td>143</td>\n",
       "      <td>91</td>\n",
       "      <td>5.00</td>\n",
       "      <td>4.00</td>\n",
       "      <td>7.10</td>\n",
       "    </tr>\n",
       "    <tr>\n",
       "      <th>979</th>\n",
       "      <td>29</td>\n",
       "      <td>2</td>\n",
       "      <td>17.80</td>\n",
       "      <td>113</td>\n",
       "      <td>72</td>\n",
       "      <td>4.01</td>\n",
       "      <td>4.52</td>\n",
       "      <td>4.00</td>\n",
       "    </tr>\n",
       "    <tr>\n",
       "      <th>1493</th>\n",
       "      <td>38</td>\n",
       "      <td>1</td>\n",
       "      <td>32.60</td>\n",
       "      <td>121</td>\n",
       "      <td>72</td>\n",
       "      <td>5.60</td>\n",
       "      <td>4.94</td>\n",
       "      <td>5.49</td>\n",
       "    </tr>\n",
       "    <tr>\n",
       "      <th>3957</th>\n",
       "      <td>66</td>\n",
       "      <td>1</td>\n",
       "      <td>25.90</td>\n",
       "      <td>100</td>\n",
       "      <td>61</td>\n",
       "      <td>4.92</td>\n",
       "      <td>4.10</td>\n",
       "      <td>8.00</td>\n",
       "    </tr>\n",
       "    <tr>\n",
       "      <th>3699</th>\n",
       "      <td>57</td>\n",
       "      <td>1</td>\n",
       "      <td>21.80</td>\n",
       "      <td>108</td>\n",
       "      <td>65</td>\n",
       "      <td>5.40</td>\n",
       "      <td>4.79</td>\n",
       "      <td>5.00</td>\n",
       "    </tr>\n",
       "    <tr>\n",
       "      <th>4102</th>\n",
       "      <td>47</td>\n",
       "      <td>1</td>\n",
       "      <td>35.00</td>\n",
       "      <td>125</td>\n",
       "      <td>69</td>\n",
       "      <td>5.04</td>\n",
       "      <td>4.97</td>\n",
       "      <td>6.70</td>\n",
       "    </tr>\n",
       "    <tr>\n",
       "      <th>552</th>\n",
       "      <td>31</td>\n",
       "      <td>1</td>\n",
       "      <td>24.20</td>\n",
       "      <td>125</td>\n",
       "      <td>81</td>\n",
       "      <td>4.80</td>\n",
       "      <td>4.58</td>\n",
       "      <td>6.10</td>\n",
       "    </tr>\n",
       "    <tr>\n",
       "      <th>1814</th>\n",
       "      <td>35</td>\n",
       "      <td>2</td>\n",
       "      <td>23.90</td>\n",
       "      <td>106</td>\n",
       "      <td>63</td>\n",
       "      <td>4.78</td>\n",
       "      <td>4.72</td>\n",
       "      <td>4.90</td>\n",
       "    </tr>\n",
       "    <tr>\n",
       "      <th>1428</th>\n",
       "      <td>80</td>\n",
       "      <td>1</td>\n",
       "      <td>24.00</td>\n",
       "      <td>177</td>\n",
       "      <td>85</td>\n",
       "      <td>5.27</td>\n",
       "      <td>5.67</td>\n",
       "      <td>5.90</td>\n",
       "    </tr>\n",
       "    <tr>\n",
       "      <th>3260</th>\n",
       "      <td>62</td>\n",
       "      <td>1</td>\n",
       "      <td>24.50</td>\n",
       "      <td>122</td>\n",
       "      <td>76</td>\n",
       "      <td>6.90</td>\n",
       "      <td>5.27</td>\n",
       "      <td>6.40</td>\n",
       "    </tr>\n",
       "    <tr>\n",
       "      <th>2441</th>\n",
       "      <td>36</td>\n",
       "      <td>2</td>\n",
       "      <td>20.70</td>\n",
       "      <td>112</td>\n",
       "      <td>61</td>\n",
       "      <td>4.70</td>\n",
       "      <td>4.10</td>\n",
       "      <td>4.63</td>\n",
       "    </tr>\n",
       "    <tr>\n",
       "      <th>3701</th>\n",
       "      <td>49</td>\n",
       "      <td>1</td>\n",
       "      <td>25.00</td>\n",
       "      <td>132</td>\n",
       "      <td>93</td>\n",
       "      <td>6.09</td>\n",
       "      <td>4.26</td>\n",
       "      <td>7.30</td>\n",
       "    </tr>\n",
       "    <tr>\n",
       "      <th>2522</th>\n",
       "      <td>31</td>\n",
       "      <td>1</td>\n",
       "      <td>16.50</td>\n",
       "      <td>123</td>\n",
       "      <td>69</td>\n",
       "      <td>4.30</td>\n",
       "      <td>3.78</td>\n",
       "      <td>4.87</td>\n",
       "    </tr>\n",
       "  </tbody>\n",
       "</table>\n",
       "</div>"
      ],
      "text/plain": [
       "      Age  Gender    BMI  SBP  DBP   FPG  Chol  FFPG\n",
       "2811   36       1  23.40  113   72  5.13  4.14  4.90\n",
       "1818   36       2  22.30  113   72  4.23  4.72  5.23\n",
       "1808   27       1  19.30  112   68  4.03  3.21  4.70\n",
       "271    53       1  24.20  133   85  3.76  5.02  4.90\n",
       "474    33       1  22.40  110   62  5.41  3.08  5.00\n",
       "2972   53       2  24.24  155   77  4.57  5.01  5.58\n",
       "1607   36       1  24.50  116   68  4.61  3.59  4.40\n",
       "3390   71       1  25.20  143   91  5.00  4.00  7.10\n",
       "979    29       2  17.80  113   72  4.01  4.52  4.00\n",
       "1493   38       1  32.60  121   72  5.60  4.94  5.49\n",
       "3957   66       1  25.90  100   61  4.92  4.10  8.00\n",
       "3699   57       1  21.80  108   65  5.40  4.79  5.00\n",
       "4102   47       1  35.00  125   69  5.04  4.97  6.70\n",
       "552    31       1  24.20  125   81  4.80  4.58  6.10\n",
       "1814   35       2  23.90  106   63  4.78  4.72  4.90\n",
       "1428   80       1  24.00  177   85  5.27  5.67  5.90\n",
       "3260   62       1  24.50  122   76  6.90  5.27  6.40\n",
       "2441   36       2  20.70  112   61  4.70  4.10  4.63\n",
       "3701   49       1  25.00  132   93  6.09  4.26  7.30\n",
       "2522   31       1  16.50  123   69  4.30  3.78  4.87"
      ]
     },
     "execution_count": 26,
     "metadata": {},
     "output_type": "execute_result"
    }
   ],
   "source": [
    "X_test[0:20]"
   ]
  },
  {
   "cell_type": "code",
   "execution_count": 27,
   "metadata": {},
   "outputs": [
    {
     "data": {
      "text/plain": [
       "2811    0\n",
       "1818    0\n",
       "1808    0\n",
       "271     0\n",
       "474     0\n",
       "2972    0\n",
       "1607    0\n",
       "3390    1\n",
       "979     0\n",
       "1493    0\n",
       "3957    1\n",
       "3699    1\n",
       "4102    1\n",
       "552     0\n",
       "1814    0\n",
       "1428    0\n",
       "3260    1\n",
       "2441    0\n",
       "3701    1\n",
       "2522    0\n",
       "Name: Diabetes, dtype: int64"
      ]
     },
     "execution_count": 27,
     "metadata": {},
     "output_type": "execute_result"
    }
   ],
   "source": [
    "Y_test[0:20]"
   ]
  },
  {
   "cell_type": "markdown",
   "metadata": {},
   "source": [
    "7. Membuat Model Prediksi"
   ]
  },
  {
   "cell_type": "code",
   "execution_count": 28,
   "metadata": {},
   "outputs": [
    {
     "name": "stdout",
     "output_type": "stream",
     "text": [
      "[0]\n",
      "Pasien Tidak Terkena Diabetes\n"
     ]
    },
    {
     "name": "stderr",
     "output_type": "stream",
     "text": [
      "c:\\Users\\ASUS\\AppData\\Local\\Programs\\Python\\Python312\\Lib\\site-packages\\sklearn\\base.py:465: UserWarning: X does not have valid feature names, but GaussianNB was fitted with feature names\n",
      "  warnings.warn(\n"
     ]
    }
   ],
   "source": [
    "input_data = (31, 1, 16.50, 123, 69, 4.30, 3.78, 4.87)\n",
    "\n",
    "input_data_as_numpy_array = np.asarray(input_data)\n",
    "#mengonversi tuple input_data menjadi array NumPy, dengan hasil data dalam bentuk array yang dapat lebih mudah diolah dan \n",
    "# digunakan untuk melakukan prediksi dengan model yang telah di latih.\n",
    "\n",
    "input_data_reshaped = input_data_as_numpy_array.reshape(1, -1)\n",
    "#cara untuk mengubah bentuk (shape) dari array NumPy input_data_as_numpy_array\n",
    "#1, menunjukkan bahwa Anda ingin array tersebut memiliki satu baris.\n",
    "#-1, digunakan untuk membiarkan NumPy menghitung ukuran kolom yang sesuai berdasarkan jumlah elemen yang ada. Dengan kata \n",
    "# lain, NumPy akan menyesuaikan jumlah kolom secara otomatis berdasarkan ukuran array dan jumlah elemen yang ada, sehingga \n",
    "# tetap konsisten dengan satu baris.\n",
    "\n",
    "prediction = classifier.predict(input_data_reshaped)\n",
    "#langkah untuk melakukan prediksi berdasarkan data yang telah Anda persiapkan dan diubah bentuknya (input_data_reshaped) \n",
    "# menggunakan model klasifikasi (classifier) yang telah Anda latih sebelumnya.\n",
    "\n",
    "print(prediction)\n",
    "\n",
    "if (prediction[0] == 0):\n",
    "    print('Pasien Tidak Terkena Diabetes')\n",
    "else:\n",
    "    print('Pasien Terkena Diabetes')"
   ]
  },
  {
   "cell_type": "markdown",
   "metadata": {},
   "source": [
    "8. Simpan Model"
   ]
  },
  {
   "cell_type": "code",
   "execution_count": 29,
   "metadata": {},
   "outputs": [],
   "source": [
    "filename = 'diabetes_model.sav'\n",
    "pickle.dump(classifier, open(filename, 'wb'))\n",
    "\n",
    "#pickle.dump: Ini adalah fungsi dari pustaka pickle yang digunakan untuk menyimpan objek Python ke dalam berkas.\n",
    "#classifier: Ini adalah objek model klasifikasi yang ingin Anda simpan.\n",
    "#open(filename, 'wb'): Ini membuka berkas dengan nama filename dalam mode binary write ('wb') untuk menyimpan data."
   ]
  }
 ],
 "metadata": {
  "kernelspec": {
   "display_name": "Python 3",
   "language": "python",
   "name": "python3"
  },
  "language_info": {
   "codemirror_mode": {
    "name": "ipython",
    "version": 3
   },
   "file_extension": ".py",
   "mimetype": "text/x-python",
   "name": "python",
   "nbconvert_exporter": "python",
   "pygments_lexer": "ipython3",
   "version": "3.12.1"
  }
 },
 "nbformat": 4,
 "nbformat_minor": 2
}
